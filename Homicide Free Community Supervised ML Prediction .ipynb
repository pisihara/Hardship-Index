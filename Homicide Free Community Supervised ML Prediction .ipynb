{
 "cells": [
  {
   "cell_type": "markdown",
   "metadata": {},
   "source": [
    "<h3>ML Homicde Free Community Area Prediction Based on Standardized Hardship Indcators</h3>\n",
    "\n",
    "Dataset: HIHOM20142017.xlsx\n",
    "\n",
    "We will use the 2014 HI data to train a classification model for which we address the question: is this a homicide free community?  (1=TRUE, 0=FALSE).\n",
    "\n",
    "We will then test the model on 2017 HI data."
   ]
  },
  {
   "cell_type": "markdown",
   "metadata": {},
   "source": [
    "Step 1) Import the usual libraries and hardship index + homicide data"
   ]
  },
  {
   "cell_type": "code",
   "execution_count": 1,
   "metadata": {},
   "outputs": [
    {
     "data": {
      "text/html": [
       "<div>\n",
       "<style scoped>\n",
       "    .dataframe tbody tr th:only-of-type {\n",
       "        vertical-align: middle;\n",
       "    }\n",
       "\n",
       "    .dataframe tbody tr th {\n",
       "        vertical-align: top;\n",
       "    }\n",
       "\n",
       "    .dataframe thead th {\n",
       "        text-align: right;\n",
       "    }\n",
       "</style>\n",
       "<table border=\"1\" class=\"dataframe\">\n",
       "  <thead>\n",
       "    <tr style=\"text-align: right;\">\n",
       "      <th></th>\n",
       "      <th>Community</th>\n",
       "      <th>index</th>\n",
       "      <th>HI14</th>\n",
       "      <th>UNEMP14</th>\n",
       "      <th>NOHS14</th>\n",
       "      <th>DEP14</th>\n",
       "      <th>HOUS14</th>\n",
       "      <th>POV14</th>\n",
       "      <th>INC14</th>\n",
       "      <th>HI17</th>\n",
       "      <th>UNEMP17</th>\n",
       "      <th>NOHS17</th>\n",
       "      <th>DEP17</th>\n",
       "      <th>HOUS17</th>\n",
       "      <th>POV17</th>\n",
       "      <th>INC17</th>\n",
       "      <th>HOM14</th>\n",
       "      <th>HOM17</th>\n",
       "      <th>LAT</th>\n",
       "      <th>LON</th>\n",
       "    </tr>\n",
       "  </thead>\n",
       "  <tbody>\n",
       "    <tr>\n",
       "      <th>0</th>\n",
       "      <td>Rogers Park</td>\n",
       "      <td>0</td>\n",
       "      <td>39.7</td>\n",
       "      <td>-0.788798</td>\n",
       "      <td>-0.261084</td>\n",
       "      <td>-1.218490</td>\n",
       "      <td>0.720716</td>\n",
       "      <td>0.137627</td>\n",
       "      <td>-0.094348</td>\n",
       "      <td>39.4</td>\n",
       "      <td>-0.631354</td>\n",
       "      <td>-0.273276</td>\n",
       "      <td>-1.430761</td>\n",
       "      <td>0.865889</td>\n",
       "      <td>0.142165</td>\n",
       "      <td>-0.181587</td>\n",
       "      <td>8</td>\n",
       "      <td>4</td>\n",
       "      <td>41.97</td>\n",
       "      <td>-87.72</td>\n",
       "    </tr>\n",
       "    <tr>\n",
       "      <th>1</th>\n",
       "      <td>West Ridge</td>\n",
       "      <td>1</td>\n",
       "      <td>44.3</td>\n",
       "      <td>-0.705481</td>\n",
       "      <td>-0.199145</td>\n",
       "      <td>0.441181</td>\n",
       "      <td>0.868467</td>\n",
       "      <td>-0.431007</td>\n",
       "      <td>-0.148259</td>\n",
       "      <td>47.3</td>\n",
       "      <td>-0.518122</td>\n",
       "      <td>0.083923</td>\n",
       "      <td>0.385205</td>\n",
       "      <td>1.249070</td>\n",
       "      <td>-0.390925</td>\n",
       "      <td>-0.248222</td>\n",
       "      <td>3</td>\n",
       "      <td>2</td>\n",
       "      <td>41.81</td>\n",
       "      <td>-87.73</td>\n",
       "    </tr>\n",
       "  </tbody>\n",
       "</table>\n",
       "</div>"
      ],
      "text/plain": [
       "     Community  index  HI14   UNEMP14    NOHS14     DEP14    HOUS14     POV14  \\\n",
       "0  Rogers Park      0  39.7 -0.788798 -0.261084 -1.218490  0.720716  0.137627   \n",
       "1   West Ridge      1  44.3 -0.705481 -0.199145  0.441181  0.868467 -0.431007   \n",
       "\n",
       "      INC14  HI17   UNEMP17    NOHS17     DEP17    HOUS17     POV17     INC17  \\\n",
       "0 -0.094348  39.4 -0.631354 -0.273276 -1.430761  0.865889  0.142165 -0.181587   \n",
       "1 -0.148259  47.3 -0.518122  0.083923  0.385205  1.249070 -0.390925 -0.248222   \n",
       "\n",
       "   HOM14  HOM17    LAT    LON  \n",
       "0      8      4  41.97 -87.72  \n",
       "1      3      2  41.81 -87.73  "
      ]
     },
     "execution_count": 1,
     "metadata": {},
     "output_type": "execute_result"
    }
   ],
   "source": [
    "import pandas as pd\n",
    "import numpy as np\n",
    "import matplotlib.pyplot as plt\n",
    "df=pd.read_excel(\"standardizedindicators.xlsx\")\n",
    "df.head(2)"
   ]
  },
  {
   "cell_type": "markdown",
   "metadata": {},
   "source": [
    "Step 2) Create two new columns H14 and H17 with value 0 if the community has 0 homicides and 1 if the community has at least 1 homicide in the given year."
   ]
  },
  {
   "cell_type": "code",
   "execution_count": 2,
   "metadata": {},
   "outputs": [
    {
     "data": {
      "text/html": [
       "<div>\n",
       "<style scoped>\n",
       "    .dataframe tbody tr th:only-of-type {\n",
       "        vertical-align: middle;\n",
       "    }\n",
       "\n",
       "    .dataframe tbody tr th {\n",
       "        vertical-align: top;\n",
       "    }\n",
       "\n",
       "    .dataframe thead th {\n",
       "        text-align: right;\n",
       "    }\n",
       "</style>\n",
       "<table border=\"1\" class=\"dataframe\">\n",
       "  <thead>\n",
       "    <tr style=\"text-align: right;\">\n",
       "      <th></th>\n",
       "      <th>Community</th>\n",
       "      <th>index</th>\n",
       "      <th>HI14</th>\n",
       "      <th>UNEMP14</th>\n",
       "      <th>NOHS14</th>\n",
       "      <th>DEP14</th>\n",
       "      <th>HOUS14</th>\n",
       "      <th>POV14</th>\n",
       "      <th>INC14</th>\n",
       "      <th>HI17</th>\n",
       "      <th>...</th>\n",
       "      <th>DEP17</th>\n",
       "      <th>HOUS17</th>\n",
       "      <th>POV17</th>\n",
       "      <th>INC17</th>\n",
       "      <th>HOM14</th>\n",
       "      <th>HOM17</th>\n",
       "      <th>LAT</th>\n",
       "      <th>LON</th>\n",
       "      <th>H14</th>\n",
       "      <th>H17</th>\n",
       "    </tr>\n",
       "  </thead>\n",
       "  <tbody>\n",
       "    <tr>\n",
       "      <th>0</th>\n",
       "      <td>Rogers Park</td>\n",
       "      <td>0</td>\n",
       "      <td>39.7</td>\n",
       "      <td>-0.788798</td>\n",
       "      <td>-0.261084</td>\n",
       "      <td>-1.218490</td>\n",
       "      <td>0.720716</td>\n",
       "      <td>0.137627</td>\n",
       "      <td>-0.094348</td>\n",
       "      <td>39.4</td>\n",
       "      <td>...</td>\n",
       "      <td>-1.430761</td>\n",
       "      <td>0.865889</td>\n",
       "      <td>0.142165</td>\n",
       "      <td>-0.181587</td>\n",
       "      <td>8</td>\n",
       "      <td>4</td>\n",
       "      <td>41.9700</td>\n",
       "      <td>-87.7200</td>\n",
       "      <td>1</td>\n",
       "      <td>1</td>\n",
       "    </tr>\n",
       "    <tr>\n",
       "      <th>1</th>\n",
       "      <td>West Ridge</td>\n",
       "      <td>1</td>\n",
       "      <td>44.3</td>\n",
       "      <td>-0.705481</td>\n",
       "      <td>-0.199145</td>\n",
       "      <td>0.441181</td>\n",
       "      <td>0.868467</td>\n",
       "      <td>-0.431007</td>\n",
       "      <td>-0.148259</td>\n",
       "      <td>47.3</td>\n",
       "      <td>...</td>\n",
       "      <td>0.385205</td>\n",
       "      <td>1.249070</td>\n",
       "      <td>-0.390925</td>\n",
       "      <td>-0.248222</td>\n",
       "      <td>3</td>\n",
       "      <td>2</td>\n",
       "      <td>41.8100</td>\n",
       "      <td>-87.7300</td>\n",
       "      <td>1</td>\n",
       "      <td>1</td>\n",
       "    </tr>\n",
       "    <tr>\n",
       "      <th>2</th>\n",
       "      <td>Uptown</td>\n",
       "      <td>2</td>\n",
       "      <td>29.9</td>\n",
       "      <td>-0.693579</td>\n",
       "      <td>-0.756591</td>\n",
       "      <td>-1.801618</td>\n",
       "      <td>-0.254438</td>\n",
       "      <td>0.129011</td>\n",
       "      <td>0.745820</td>\n",
       "      <td>31.5</td>\n",
       "      <td>...</td>\n",
       "      <td>-1.725662</td>\n",
       "      <td>0.204031</td>\n",
       "      <td>0.022680</td>\n",
       "      <td>0.511639</td>\n",
       "      <td>5</td>\n",
       "      <td>5</td>\n",
       "      <td>41.8333</td>\n",
       "      <td>-87.6333</td>\n",
       "      <td>1</td>\n",
       "      <td>1</td>\n",
       "    </tr>\n",
       "    <tr>\n",
       "      <th>3</th>\n",
       "      <td>Lincoln Square</td>\n",
       "      <td>3</td>\n",
       "      <td>23.8</td>\n",
       "      <td>-0.955430</td>\n",
       "      <td>-0.774288</td>\n",
       "      <td>-1.397914</td>\n",
       "      <td>-0.904541</td>\n",
       "      <td>-0.835943</td>\n",
       "      <td>0.898993</td>\n",
       "      <td>21.7</td>\n",
       "      <td>...</td>\n",
       "      <td>-1.492846</td>\n",
       "      <td>-0.841007</td>\n",
       "      <td>-0.942398</td>\n",
       "      <td>0.890934</td>\n",
       "      <td>0</td>\n",
       "      <td>1</td>\n",
       "      <td>41.7500</td>\n",
       "      <td>-87.7100</td>\n",
       "      <td>0</td>\n",
       "      <td>1</td>\n",
       "    </tr>\n",
       "    <tr>\n",
       "      <th>4</th>\n",
       "      <td>North Center</td>\n",
       "      <td>4</td>\n",
       "      <td>14.9</td>\n",
       "      <td>-1.348205</td>\n",
       "      <td>-1.181312</td>\n",
       "      <td>-1.128779</td>\n",
       "      <td>-1.200043</td>\n",
       "      <td>-1.404576</td>\n",
       "      <td>2.034007</td>\n",
       "      <td>16.9</td>\n",
       "      <td>...</td>\n",
       "      <td>-0.499497</td>\n",
       "      <td>-1.189353</td>\n",
       "      <td>-1.457106</td>\n",
       "      <td>2.050376</td>\n",
       "      <td>0</td>\n",
       "      <td>0</td>\n",
       "      <td>41.7400</td>\n",
       "      <td>-87.6600</td>\n",
       "      <td>0</td>\n",
       "      <td>0</td>\n",
       "    </tr>\n",
       "  </tbody>\n",
       "</table>\n",
       "<p>5 rows × 22 columns</p>\n",
       "</div>"
      ],
      "text/plain": [
       "        Community  index  HI14   UNEMP14    NOHS14     DEP14    HOUS14  \\\n",
       "0     Rogers Park      0  39.7 -0.788798 -0.261084 -1.218490  0.720716   \n",
       "1      West Ridge      1  44.3 -0.705481 -0.199145  0.441181  0.868467   \n",
       "2          Uptown      2  29.9 -0.693579 -0.756591 -1.801618 -0.254438   \n",
       "3  Lincoln Square      3  23.8 -0.955430 -0.774288 -1.397914 -0.904541   \n",
       "4    North Center      4  14.9 -1.348205 -1.181312 -1.128779 -1.200043   \n",
       "\n",
       "      POV14     INC14  HI17 ...      DEP17    HOUS17     POV17     INC17  \\\n",
       "0  0.137627 -0.094348  39.4 ...  -1.430761  0.865889  0.142165 -0.181587   \n",
       "1 -0.431007 -0.148259  47.3 ...   0.385205  1.249070 -0.390925 -0.248222   \n",
       "2  0.129011  0.745820  31.5 ...  -1.725662  0.204031  0.022680  0.511639   \n",
       "3 -0.835943  0.898993  21.7 ...  -1.492846 -0.841007 -0.942398  0.890934   \n",
       "4 -1.404576  2.034007  16.9 ...  -0.499497 -1.189353 -1.457106  2.050376   \n",
       "\n",
       "   HOM14  HOM17      LAT      LON  H14  H17  \n",
       "0      8      4  41.9700 -87.7200    1    1  \n",
       "1      3      2  41.8100 -87.7300    1    1  \n",
       "2      5      5  41.8333 -87.6333    1    1  \n",
       "3      0      1  41.7500 -87.7100    0    1  \n",
       "4      0      0  41.7400 -87.6600    0    0  \n",
       "\n",
       "[5 rows x 22 columns]"
      ]
     },
     "execution_count": 2,
     "metadata": {},
     "output_type": "execute_result"
    }
   ],
   "source": [
    "df[\"H14\"]=0\n",
    "df[\"H17\"]=0\n",
    "for i in df.index:\n",
    "    if df.loc[i,\"HOM14\"]>0:\n",
    "        df.loc[i,\"H14\"]=1\n",
    "    else:\n",
    "        df.loc[i,\"H14\"]=0\n",
    "    if df.loc[i,\"HOM17\"]>0:\n",
    "        df.loc[i,\"H17\"]=1\n",
    "    else:\n",
    "        df.loc[i,\"H17\"]=0\n",
    "df.head(5)"
   ]
  },
  {
   "cell_type": "markdown",
   "metadata": {},
   "source": [
    "Step 3) Import Machine Learning libraries:"
   ]
  },
  {
   "cell_type": "code",
   "execution_count": 3,
   "metadata": {},
   "outputs": [],
   "source": [
    "from sklearn import datasets\n",
    "from sklearn import model_selection\n",
    "from sklearn.model_selection import cross_val_score\n",
    "from sklearn.neighbors import KNeighborsClassifier\n",
    "from sklearn.tree import DecisionTreeClassifier\n",
    "from sklearn.svm import SVC"
   ]
  },
  {
   "cell_type": "markdown",
   "metadata": {},
   "source": [
    "Step 4) Create the training and validation sets using 2014 and 2017 data respectively."
   ]
  },
  {
   "cell_type": "code",
   "execution_count": 4,
   "metadata": {},
   "outputs": [
    {
     "data": {
      "text/html": [
       "<div>\n",
       "<style scoped>\n",
       "    .dataframe tbody tr th:only-of-type {\n",
       "        vertical-align: middle;\n",
       "    }\n",
       "\n",
       "    .dataframe tbody tr th {\n",
       "        vertical-align: top;\n",
       "    }\n",
       "\n",
       "    .dataframe thead th {\n",
       "        text-align: right;\n",
       "    }\n",
       "</style>\n",
       "<table border=\"1\" class=\"dataframe\">\n",
       "  <thead>\n",
       "    <tr style=\"text-align: right;\">\n",
       "      <th></th>\n",
       "      <th>UNEMP</th>\n",
       "      <th>NOHS</th>\n",
       "      <th>DEP</th>\n",
       "      <th>HOUS</th>\n",
       "      <th>POV</th>\n",
       "      <th>INC</th>\n",
       "      <th>H</th>\n",
       "    </tr>\n",
       "  </thead>\n",
       "  <tbody>\n",
       "    <tr>\n",
       "      <th>0</th>\n",
       "      <td>-0.788798</td>\n",
       "      <td>-0.261084</td>\n",
       "      <td>-1.218490</td>\n",
       "      <td>0.720716</td>\n",
       "      <td>0.137627</td>\n",
       "      <td>-0.094348</td>\n",
       "      <td>1</td>\n",
       "    </tr>\n",
       "    <tr>\n",
       "      <th>1</th>\n",
       "      <td>-0.705481</td>\n",
       "      <td>-0.199145</td>\n",
       "      <td>0.441181</td>\n",
       "      <td>0.868467</td>\n",
       "      <td>-0.431007</td>\n",
       "      <td>-0.148259</td>\n",
       "      <td>1</td>\n",
       "    </tr>\n",
       "  </tbody>\n",
       "</table>\n",
       "</div>"
      ],
      "text/plain": [
       "      UNEMP      NOHS       DEP      HOUS       POV       INC  H\n",
       "0 -0.788798 -0.261084 -1.218490  0.720716  0.137627 -0.094348  1\n",
       "1 -0.705481 -0.199145  0.441181  0.868467 -0.431007 -0.148259  1"
      ]
     },
     "execution_count": 4,
     "metadata": {},
     "output_type": "execute_result"
    }
   ],
   "source": [
    "homicide_data14=df[[\"UNEMP14\",\"NOHS14\",\"DEP14\",\"HOUS14\",\"POV14\",\"INC14\",\"H14\"]]\n",
    "homicide_data14.columns=[\"UNEMP\",\"NOHS\",\"DEP\",\"HOUS\",\"POV\",\"INC\",\"H\"]\n",
    "homicide_data14.head(2)"
   ]
  },
  {
   "cell_type": "code",
   "execution_count": 5,
   "metadata": {},
   "outputs": [
    {
     "data": {
      "text/html": [
       "<div>\n",
       "<style scoped>\n",
       "    .dataframe tbody tr th:only-of-type {\n",
       "        vertical-align: middle;\n",
       "    }\n",
       "\n",
       "    .dataframe tbody tr th {\n",
       "        vertical-align: top;\n",
       "    }\n",
       "\n",
       "    .dataframe thead th {\n",
       "        text-align: right;\n",
       "    }\n",
       "</style>\n",
       "<table border=\"1\" class=\"dataframe\">\n",
       "  <thead>\n",
       "    <tr style=\"text-align: right;\">\n",
       "      <th></th>\n",
       "      <th>UNEMP</th>\n",
       "      <th>NOHS</th>\n",
       "      <th>DEP</th>\n",
       "      <th>HOUS</th>\n",
       "      <th>POV</th>\n",
       "      <th>INC</th>\n",
       "      <th>H</th>\n",
       "    </tr>\n",
       "  </thead>\n",
       "  <tbody>\n",
       "    <tr>\n",
       "      <th>0</th>\n",
       "      <td>-0.631354</td>\n",
       "      <td>-0.273276</td>\n",
       "      <td>-1.430761</td>\n",
       "      <td>0.865889</td>\n",
       "      <td>0.142165</td>\n",
       "      <td>-0.181587</td>\n",
       "      <td>1</td>\n",
       "    </tr>\n",
       "    <tr>\n",
       "      <th>1</th>\n",
       "      <td>-0.518122</td>\n",
       "      <td>0.083923</td>\n",
       "      <td>0.385205</td>\n",
       "      <td>1.249070</td>\n",
       "      <td>-0.390925</td>\n",
       "      <td>-0.248222</td>\n",
       "      <td>1</td>\n",
       "    </tr>\n",
       "  </tbody>\n",
       "</table>\n",
       "</div>"
      ],
      "text/plain": [
       "      UNEMP      NOHS       DEP      HOUS       POV       INC  H\n",
       "0 -0.631354 -0.273276 -1.430761  0.865889  0.142165 -0.181587  1\n",
       "1 -0.518122  0.083923  0.385205  1.249070 -0.390925 -0.248222  1"
      ]
     },
     "execution_count": 5,
     "metadata": {},
     "output_type": "execute_result"
    }
   ],
   "source": [
    "homicide_data17=df[[\"UNEMP17\",\"NOHS17\",\"DEP17\",\"HOUS17\",\"POV17\",\"INC17\",\"H17\"]]\n",
    "homicide_data17.columns=[\"UNEMP\",\"NOHS\",\"DEP\",\"HOUS\",\"POV\",\"INC\",\"H\"]\n",
    "homicide_data17.head(2)"
   ]
  },
  {
   "cell_type": "markdown",
   "metadata": {},
   "source": [
    "Step 4 Create the input dataset X and output dataset y used for training, and the validiation sets X_valid, y_valid by executing the following commands. (The validation set will be used later to check how well our model predicts the output)."
   ]
  },
  {
   "cell_type": "code",
   "execution_count": 6,
   "metadata": {},
   "outputs": [],
   "source": [
    "training = homicide_data14\n",
    "validation = homicide_data17\n",
    "X=training[[\"UNEMP\",\"NOHS\",\"DEP\",\"HOUS\",\"POV\",\"INC\"]]\n",
    "y=training[\"H\"]\n",
    "X_valid=validation[[\"UNEMP\",\"NOHS\",\"DEP\",\"HOUS\",\"POV\",\"INC\"]]\n",
    "y_valid=validation[\"H\"]"
   ]
  },
  {
   "cell_type": "markdown",
   "metadata": {},
   "source": [
    "Step 5) Execute the following to compare the prediction accuracy of different ML classification algorithms: K Nearest Neighbors, Decision Tree and Support Vector Machines. Using n_splits=7, the data is randomly split into 7 groups of 11.  Each group is used to est the accuracy of the model built on the other 6 groups. The accuracy is the average of the accuracy for the 7 splits."
   ]
  },
  {
   "cell_type": "code",
   "execution_count": 7,
   "metadata": {},
   "outputs": [
    {
     "name": "stdout",
     "output_type": "stream",
     "text": [
      "KNN: 0.818182 (0.068721)\n",
      "DTC: 0.688312 (0.144617)\n",
      "SVM: 0.831169 (0.075727)\n"
     ]
    }
   ],
   "source": [
    "seed=7\n",
    "score='accuracy'\n",
    "models=[]\n",
    "models.append(('KNN',KNeighborsClassifier(n_neighbors=5)))\n",
    "models.append(('DTC',DecisionTreeClassifier(random_state = seed)))\n",
    "models.append(('SVM',SVC(gamma='auto')))\n",
    "#Evaluate each model\n",
    "results=[]\n",
    "names=[]\n",
    "for name, model in models:\n",
    "    kfold=model_selection.KFold(n_splits=7)\n",
    "    cv_results=model_selection.cross_val_score(model,X,y,cv=kfold,scoring=score)\n",
    "    results.append(cv_results)\n",
    "    names.append(name)\n",
    "    msg=\"%s: %f (%f)\" % (name, cv_results.mean(),cv_results.std())\n",
    "    print(msg)"
   ]
  },
  {
   "cell_type": "markdown",
   "metadata": {},
   "source": [
    "In predicting whether a homicide will occur, KNN has an estimated accuracy score of 79.2%, DTC 68.8% and SVM 80.5%.\n",
    "\n",
    "Step 6) Executing the next cell, we can get more information about SVM model accuracy for a single trial to predict the 2017 positive homicide communities  (as opposed to the previous result which reports an average accuracy over several trials when randomly dividing the training and testing data)."
   ]
  },
  {
   "cell_type": "code",
   "execution_count": 8,
   "metadata": {},
   "outputs": [
    {
     "name": "stdout",
     "output_type": "stream",
     "text": [
      "0.9090909090909091\n",
      "[[ 5  6]\n",
      " [ 1 65]]\n",
      "             precision    recall  f1-score   support\n",
      "\n",
      "          0       0.83      0.45      0.59        11\n",
      "          1       0.92      0.98      0.95        66\n",
      "\n",
      "avg / total       0.90      0.91      0.90        77\n",
      "\n"
     ]
    }
   ],
   "source": [
    "#Import required metrics\n",
    "from sklearn.metrics import classification_report\n",
    "from sklearn.metrics import confusion_matrix\n",
    "from sklearn.metrics import accuracy_score\n",
    "svm=SVC()\n",
    "svm.fit(X,y)\n",
    "predictions=svm.predict(X_valid)\n",
    "print(accuracy_score(y_valid,predictions))\n",
    "print(confusion_matrix(y_valid,predictions))\n",
    "print(classification_report(y_valid,predictions))"
   ]
  },
  {
   "cell_type": "markdown",
   "metadata": {},
   "source": [
    "<table style=\"width:40%\">\n",
    "  <tr>\n",
    "    <th>TRUE POSITIVE (TP)</th>\n",
    "    <th>FALSE NEGATIVE (FN)</th>\n",
    "      </tr>\n",
    "  <tr>\n",
    "    <td>FALSE POSITIVE (FP)</td>\n",
    "    <td>TRUE NEGATIVE (TN)</td>\n",
    "      </tr>\n",
    "  <tr>\n",
    "  </tr>\n",
    "    </table>\n",
    "    <ul>\n",
    "    <li> <b>Accuracy</b>=number of correct predictions out of total dataset.  (TP+TN)/(TP+TN+FP+FN) </li>\n",
    "    <li> <b>Recall (true positive rate)</b>=How many true positives get predicted out of all positives in dataset. TP/(TP+FN). High recall means most positives are correctly predicted.</li>\n",
    "    <li> <b>Precision</b> =measure of correctness of a positive predicition TP/(TP+FP)\n",
    "    .  If a result is predicted as positive, how sure can you be of the prediciton?"
   ]
  },
  {
   "cell_type": "markdown",
   "metadata": {},
   "source": [
    "Step 7) KNN model accuracy for a single trial:"
   ]
  },
  {
   "cell_type": "code",
   "execution_count": 9,
   "metadata": {},
   "outputs": [
    {
     "name": "stdout",
     "output_type": "stream",
     "text": [
      "0.8701298701298701\n",
      "[[ 6  5]\n",
      " [ 5 61]]\n",
      "             precision    recall  f1-score   support\n",
      "\n",
      "          0       0.55      0.55      0.55        11\n",
      "          1       0.92      0.92      0.92        66\n",
      "\n",
      "avg / total       0.87      0.87      0.87        77\n",
      "\n"
     ]
    }
   ],
   "source": [
    "knn = KNeighborsClassifier(n_neighbors=5)\n",
    "knn.fit(X, y)\n",
    "predictions=knn.predict(X_valid)\n",
    "print(accuracy_score(y_valid,predictions))\n",
    "print(confusion_matrix(y_valid,predictions))\n",
    "print(classification_report(y_valid,predictions))"
   ]
  },
  {
   "cell_type": "markdown",
   "metadata": {},
   "source": [
    "Step 8) DTC model accuracy for a single trial:"
   ]
  },
  {
   "cell_type": "code",
   "execution_count": 10,
   "metadata": {},
   "outputs": [
    {
     "name": "stdout",
     "output_type": "stream",
     "text": [
      "0.7792207792207793\n",
      "[[ 5  6]\n",
      " [11 55]]\n",
      "             precision    recall  f1-score   support\n",
      "\n",
      "          0       0.31      0.45      0.37        11\n",
      "          1       0.90      0.83      0.87        66\n",
      "\n",
      "avg / total       0.82      0.78      0.80        77\n",
      "\n"
     ]
    }
   ],
   "source": [
    "dtc = DecisionTreeClassifier(random_state = seed)\n",
    "dtc.fit(X, y)\n",
    "predictions=dtc.predict(X_valid)\n",
    "print(accuracy_score(y_valid,predictions))\n",
    "print(confusion_matrix(y_valid,predictions))\n",
    "print(classification_report(y_valid,predictions))"
   ]
  },
  {
   "cell_type": "markdown",
   "metadata": {},
   "source": [
    "Conclusions: comparing model accuracies of single trials, SVM has 85.7%, KNN has 83.1%, and DTC has 71.4% accuracy. "
   ]
  },
  {
   "cell_type": "markdown",
   "metadata": {},
   "source": [
    "<h3> Questions</h3>\n",
    "1) Why does model appear to predict only positives?\n",
    "\n",
    "2) What is the confusion matrix for KNN and DTC?"
   ]
  },
  {
   "cell_type": "markdown",
   "metadata": {},
   "source": [
    "Notes: \n",
    "I changed line 11 so that 0 indicates neighborhoods with 0 homicides, and 1 indicates neighborhoods with 1 or more homicides in the given year.\n",
    "I removed \"random_state = seed\" from the argument of the KFold function because it was triggering a warning message - this did not change the output or accuracy of the KNN method. It seems as though this parameter is only necessary for the DTC function.\n",
    "\n",
    "I added code for single trials of KNN and DTC methods (lines 20 and 21).\n",
    "SVM had the highest accurcay using both methods: the split method, and single trials (80.5%, 85.7%), followed by KNN (79.2%, 83.1%) and then DTC (68.8%, 71.4%).\n",
    "Overall the single trials are more accurate."
   ]
  }
 ],
 "metadata": {
  "kernelspec": {
   "display_name": "Python 3",
   "language": "python",
   "name": "python3"
  },
  "language_info": {
   "codemirror_mode": {
    "name": "ipython",
    "version": 3
   },
   "file_extension": ".py",
   "mimetype": "text/x-python",
   "name": "python",
   "nbconvert_exporter": "python",
   "pygments_lexer": "ipython3",
   "version": "3.6.4"
  }
 },
 "nbformat": 4,
 "nbformat_minor": 2
}
